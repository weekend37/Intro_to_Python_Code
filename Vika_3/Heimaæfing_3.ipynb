{
 "cells": [
  {
   "cell_type": "markdown",
   "metadata": {},
   "source": [
    "                                                                © Helgi Hilmarsson                          "
   ]
  },
  {
   "cell_type": "markdown",
   "metadata": {},
   "source": [
    "# Heimaæfing 3\n",
    "\n",
    "Nokkrar skemmtilegar spurningar úr efni dagsins.\n",
    "\n",
    "Þær eru góðar til að athuga hvort viðfangsefni dagsins sé meðtekið og fín upprifjun þegar farið verður yfir þær í næstu viku.\n",
    "\n",
    "Viðfangsefni: **Föll, Gagnavinnsla**"
   ]
  },
  {
   "cell_type": "markdown",
   "metadata": {},
   "source": [
    "### Spurning 1\n",
    "\n",
    "Gefið er eftirfarandi fall. Hvert er inntak þess, úttak og virkni?\n",
    "\n",
    "```python\n",
    "import numpy as np\n",
    "\n",
    "def countingNumbers(listOfNumbers, numberToCount):\n",
    "    print(sum(np.array(listOfNumbers)==numberToCount))\n",
    "    return\n",
    "```"
   ]
  },
  {
   "cell_type": "markdown",
   "metadata": {},
   "source": [
    "### Spurning 2\n",
    "\n",
    "Hvað prentar eftirfarandi kóði út?\n",
    "\n",
    "```python\n",
    "def myFun(x): \n",
    "    x = 20\n",
    "    return x\n",
    "   \n",
    "x = 10 \n",
    "x = myFun(x)\n",
    "print(x)  \n",
    "```\n"
   ]
  },
  {
   "cell_type": "markdown",
   "metadata": {},
   "source": [
    "### Spurning 3\n",
    "\n",
    "Hvernig mætti búa til fall sem:\n",
    "- tekur inn bæði lista af tölum og einhverja ákveðna tölu\n",
    "- notar for-lykkju til að finna töluna í listanum\n",
    "- skilar staðsetningu tölunar í listanum ef hún finnur töluna\n",
    "- skilar engu ef hún finnur ekki töluna"
   ]
  },
  {
   "cell_type": "code",
   "execution_count": 1,
   "metadata": {},
   "outputs": [],
   "source": [
    "### Hægt að kóða hér"
   ]
  },
  {
   "cell_type": "markdown",
   "metadata": {},
   "source": [
    "### Spurning 4\n",
    "\n",
    "Hvernig væri hægt að filla inn í hjálparföllin hér að neðan svo að forritið fái rétta virkni? (erfitt en skemmtilegt!)\n",
    "\n",
    "ath mögulegt svar er hægt að finna í skránni \"dæmi4.py\" á github:\n",
    "https://github.com/weekend37/Intro_to_Python_Code/blob/master/Vika_3/daemi4.py\n",
    "\n",
    "```python\n",
    "import re\n",
    "\n",
    "def add(x,D):\n",
    "    # virkni: bætir staki í dictionary og telur fjölda staka\n",
    "    # inntak: strengur x og Dictionary D\n",
    "    # úttak: ekkert\n",
    "    \n",
    "    # hér vantar kóða\n",
    "    \n",
    "    return \n",
    "\n",
    "def getWordsFromFile(fileName):\n",
    "    # virkni: les skrá, hreinsar og einangrar orðin\n",
    "    # inntak: skráarheiti\n",
    "    # úttak: orðin\n",
    "    \n",
    "    # hér vantar kóða\n",
    "    \n",
    "    return words\n",
    "\n",
    "# __main__    \n",
    "# Lesum inn skrá og teljum hvað hvert orð kemur fyrir oft í skránni\n",
    "\n",
    "fileName = 'laxdaela_saga.txt'\n",
    "words = getWordsFromFile(fileName)\n",
    "wordCount = {}\n",
    "for word in words:\n",
    "    add(word,wordCount)\n",
    "print(wordCount)\n",
    "```\n"
   ]
  },
  {
   "cell_type": "markdown",
   "metadata": {},
   "source": [
    "### Spurning 5\n",
    "\n",
    "#### csv gagnavinnsla með pandas\n",
    "\n",
    "Hvert er lægsta verð Icelandair frá upphafi? Hvenær var það?"
   ]
  },
  {
   "cell_type": "code",
   "execution_count": null,
   "metadata": {},
   "outputs": [],
   "source": [
    "import datetime\n",
    "import pandas as pd\n",
    "\n",
    "# lesum skránna sótta af keldunni: https://www.keldan.is/market/shares/ICEAIR \n",
    "iceair_data = pd.read_csv(\"iceair.csv\")\n",
    "\n",
    "### Hægt að kóða hér"
   ]
  }
 ],
 "metadata": {
  "kernelspec": {
   "display_name": "Python 3",
   "language": "python",
   "name": "python3"
  },
  "language_info": {
   "codemirror_mode": {
    "name": "ipython",
    "version": 3
   },
   "file_extension": ".py",
   "mimetype": "text/x-python",
   "name": "python",
   "nbconvert_exporter": "python",
   "pygments_lexer": "ipython3",
   "version": "3.6.7"
  }
 },
 "nbformat": 4,
 "nbformat_minor": 2
}
