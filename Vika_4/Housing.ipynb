{
 "cells": [
  {
   "cell_type": "markdown",
   "metadata": {},
   "source": [
    "# Inngangur að vélarlærdómi\n",
    "\n",
    "## Einföld línuleg aðhvarfsgreining\n",
    "\n",
    "Notum gögn sem fengust við endurmat fasteignamats íbúðarhúsnæðis 2017 til að reyna að spá fyrir um verði íbúða út frá gögnum sem við vitum um þær."
   ]
  },
  {
   "cell_type": "code",
   "execution_count": 1,
   "metadata": {},
   "outputs": [
    {
     "data": {
      "text/html": [
       "<div>\n",
       "<style scoped>\n",
       "    .dataframe tbody tr th:only-of-type {\n",
       "        vertical-align: middle;\n",
       "    }\n",
       "\n",
       "    .dataframe tbody tr th {\n",
       "        vertical-align: top;\n",
       "    }\n",
       "\n",
       "    .dataframe thead th {\n",
       "        text-align: right;\n",
       "    }\n",
       "</style>\n",
       "<table border=\"1\" class=\"dataframe\">\n",
       "  <thead>\n",
       "    <tr style=\"text-align: right;\">\n",
       "      <th></th>\n",
       "      <th>verð</th>\n",
       "      <th>stærð</th>\n",
       "      <th>fjherb</th>\n",
       "      <th>fjklós</th>\n",
       "      <th>lyfta</th>\n",
       "      <th>fjhæð</th>\n",
       "      <th>fjbílast</th>\n",
       "      <th>fjbkar</th>\n",
       "      <th>fjsturt</th>\n",
       "    </tr>\n",
       "  </thead>\n",
       "  <tbody>\n",
       "    <tr>\n",
       "      <th>0</th>\n",
       "      <td>18636000</td>\n",
       "      <td>117.0</td>\n",
       "      <td>3</td>\n",
       "      <td>1</td>\n",
       "      <td>0</td>\n",
       "      <td>1</td>\n",
       "      <td>0</td>\n",
       "      <td>1</td>\n",
       "      <td>0</td>\n",
       "    </tr>\n",
       "    <tr>\n",
       "      <th>1</th>\n",
       "      <td>17533000</td>\n",
       "      <td>67.9</td>\n",
       "      <td>1</td>\n",
       "      <td>1</td>\n",
       "      <td>0</td>\n",
       "      <td>1</td>\n",
       "      <td>0</td>\n",
       "      <td>0</td>\n",
       "      <td>1</td>\n",
       "    </tr>\n",
       "    <tr>\n",
       "      <th>2</th>\n",
       "      <td>14472000</td>\n",
       "      <td>45.7</td>\n",
       "      <td>1</td>\n",
       "      <td>1</td>\n",
       "      <td>0</td>\n",
       "      <td>1</td>\n",
       "      <td>0</td>\n",
       "      <td>0</td>\n",
       "      <td>1</td>\n",
       "    </tr>\n",
       "    <tr>\n",
       "      <th>3</th>\n",
       "      <td>14850000</td>\n",
       "      <td>78.1</td>\n",
       "      <td>2</td>\n",
       "      <td>1</td>\n",
       "      <td>0</td>\n",
       "      <td>1</td>\n",
       "      <td>0</td>\n",
       "      <td>1</td>\n",
       "      <td>0</td>\n",
       "    </tr>\n",
       "    <tr>\n",
       "      <th>4</th>\n",
       "      <td>20831000</td>\n",
       "      <td>87.4</td>\n",
       "      <td>2</td>\n",
       "      <td>1</td>\n",
       "      <td>0</td>\n",
       "      <td>1</td>\n",
       "      <td>0</td>\n",
       "      <td>1</td>\n",
       "      <td>0</td>\n",
       "    </tr>\n",
       "  </tbody>\n",
       "</table>\n",
       "</div>"
      ],
      "text/plain": [
       "       verð  stærð  fjherb  fjklós  lyfta  fjhæð  fjbílast  fjbkar  fjsturt\n",
       "0  18636000  117.0       3       1      0      1         0       1        0\n",
       "1  17533000   67.9       1       1      0      1         0       0        1\n",
       "2  14472000   45.7       1       1      0      1         0       0        1\n",
       "3  14850000   78.1       2       1      0      1         0       1        0\n",
       "4  20831000   87.4       2       1      0      1         0       1        0"
      ]
     },
     "execution_count": 1,
     "metadata": {},
     "output_type": "execute_result"
    }
   ],
   "source": [
    "# classics\n",
    "import pandas as pd\n",
    "import matplotlib.pyplot as plt\n",
    "import numpy as np\n",
    "import warnings\n",
    "warnings.filterwarnings('ignore')\n",
    "\n",
    "# Pakkar frá sklearn\n",
    "from sklearn.model_selection import train_test_split\n",
    "\n",
    "# Lesum Gögnin (Þau líta vel ú!)\n",
    "HousingData = pd.read_csv('HousingData.csv')\n",
    "HousingData.head()"
   ]
  },
  {
   "cell_type": "code",
   "execution_count": 111,
   "metadata": {},
   "outputs": [],
   "source": [
    "# Skilgreinum spábreytuna og parametrana sem við ætlum að nota (bara stærðina)\n",
    "y = HousingData['verð']\n",
    "X = HousingData[['stærð']]\n",
    "\n",
    "# Skiptum gögnunum í train og test\n",
    "X_train, X_test, y_train, y_test = train_test_split(X, y, test_size=0.2, random_state=42)"
   ]
  },
  {
   "cell_type": "code",
   "execution_count": 112,
   "metadata": {},
   "outputs": [
    {
     "data": {
      "image/png": "[encoded data removed]",
      "text/plain": [
       "<Figure size 432x288 with 1 Axes>"
      ]
     },
     "metadata": {
      "needs_background": "light"
     },
     "output_type": "display_data"
    }
   ],
   "source": [
    "# Erum að reyna að spá fyrir þessum verðum (test gagnasettinu)\n",
    "plt.scatter(X_test,y_test)\n",
    "plt.show()"
   ]
  },
  {
   "cell_type": "markdown",
   "metadata": {},
   "source": [
    "Módelum eftir þjálfunargagnasettinu okkar"
   ]
  },
  {
   "cell_type": "code",
   "execution_count": 113,
   "metadata": {},
   "outputs": [
    {
     "data": {
      "image/png": "[encoded data removed]",
      "text/plain": [
       "<Figure size 432x288 with 1 Axes>"
      ]
     },
     "metadata": {
      "needs_background": "light"
     },
     "output_type": "display_data"
    }
   ],
   "source": [
    "from sklearn import linear_model\n",
    "\n",
    "# Búum til regression hlut sem er modelið okkar\n",
    "model = linear_model.LinearRegression()\n",
    "\n",
    "# Þjálfum modelið okkar\n",
    "model.fit(X_train, y_train)\n",
    "\n",
    "# Spáum fyrir þjálfunargögnunum\n",
    "y_train_pred = model.predict(X_train)\n",
    "\n",
    "# Teiknum gögnin og módelið okkar \n",
    "plt.scatter(X_train, y_train)\n",
    "plt.plot(X_train, y_train_pred, color='orange', linewidth=3)\n",
    "plt.show()"
   ]
  },
  {
   "cell_type": "markdown",
   "metadata": {},
   "source": [
    "En hvernig stöndum við okkur á test gagnasettinu okkar?"
   ]
  },
  {
   "cell_type": "code",
   "execution_count": 114,
   "metadata": {},
   "outputs": [
    {
     "data": {
      "image/png": "[encoded data removed]",
      "text/plain": [
       "<Figure size 432x288 with 1 Axes>"
      ]
     },
     "metadata": {
      "needs_background": "light"
     },
     "output_type": "display_data"
    }
   ],
   "source": [
    "# Spáum fyrir test gögnunum\n",
    "y_test_pred = model.predict(X_test)\n",
    "\n",
    "# Teiknum gögnin og spánna \n",
    "plt.scatter(X_test, y_test)\n",
    "plt.plot(X_test, y_test_pred, color='orange', linewidth=3)\n",
    "plt.show()"
   ]
  },
  {
   "cell_type": "code",
   "execution_count": 121,
   "metadata": {},
   "outputs": [
    {
     "name": "stdout",
     "output_type": "stream",
     "text": [
      "Intercept:  1049001.017984867\n",
      "Coefficients:  [241941.00684556]\n",
      "Meðalskekkja: 4.5 miljónir isk.\n"
     ]
    }
   ],
   "source": [
    "# Skurðpunktur\n",
    "print('Intercept: ', model.intercept_)\n",
    "\n",
    "# Stuðlar við jöfnu bestu línu\n",
    "print('Coefficients: ', model.coef_)\n",
    "\n",
    "# Mean squared error\n",
    "print('Meðalskekkja:', round(np.mean(abs(y_test-y_test_pred))/1000000,1), 'miljónir isk.')"
   ]
  },
  {
   "cell_type": "markdown",
   "metadata": {},
   "source": [
    "Alls ekki slæm skekkja! \n",
    "\n",
    "Út frá bara stærðinni virðumst við getað áætlað nokkuð vel hvað verð íbúðar í Reykjavík kostar.\n",
    "\n",
    "Það segir sig samt sjálft að því meira sem við vitum, því auðveldara er að áætla verð íbúðanna. Hvað gerist ef við notum alla parametrana í gagnasafninu til að spá fyrir um verð íbúðana?"
   ]
  },
  {
   "cell_type": "code",
   "execution_count": 126,
   "metadata": {},
   "outputs": [
    {
     "name": "stdout",
     "output_type": "stream",
     "text": [
      "Intercept:  -1233334.178574469\n",
      "Coefficients:  [  222406.03639874  -950934.96260701  4874107.83628969  1053459.66605436\n",
      " -1718547.44464073  3647375.65759009   898784.97928374  2069007.35080493]\n",
      "Meðalskekkja: 4.1 miljónir isk.\n"
     ]
    }
   ],
   "source": [
    "# Skilgreinum spábreytuna og parametrana sem við ætlum að nota (bara stærðina)\n",
    "y = HousingData['verð']\n",
    "X = HousingData[['stærð','fjherb','fjklós','lyfta','fjhæð','fjbílast','fjbkar','fjsturt']]\n",
    "\n",
    "# Skiptum gögnunum í train og test\n",
    "X_train, X_test, y_train, y_test = train_test_split(X, y, test_size=0.2, random_state=42)\n",
    "\n",
    "# Þjálfum modelið okkar\n",
    "model.fit(X_train, y_train)\n",
    "\n",
    "# Spáum fyrir test gögnunum\n",
    "y_test_pred = model.predict(X_test)\n",
    "\n",
    "# Skurðpunktur\n",
    "print('Intercept: ', model.intercept_)\n",
    "\n",
    "# Stuðlar við jöfnu bestu línu\n",
    "print('Coefficients: ', model.coef_)\n",
    "\n",
    "# Mean squared error\n",
    "print('Meðalskekkja:', round(np.mean(abs(y_test-y_test_pred))/1000000,1), 'miljónir isk.')"
   ]
  },
  {
   "cell_type": "markdown",
   "metadata": {},
   "source": [
    "Já sæll! Ættum við ekki bara að gerast fasteignasalar?"
   ]
  }
 ],
 "metadata": {
  "kernelspec": {
   "display_name": "Python 3",
   "language": "python",
   "name": "python3"
  },
  "language_info": {
   "codemirror_mode": {
    "name": "ipython",
    "version": 3
   },
   "file_extension": ".py",
   "mimetype": "text/x-python",
   "name": "python",
   "nbconvert_exporter": "python",
   "pygments_lexer": "ipython3",
   "version": "3.6.7"
  }
 },
 "nbformat": 4,
 "nbformat_minor": 2
}
