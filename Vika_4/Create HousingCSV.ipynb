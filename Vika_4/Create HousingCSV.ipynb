{
 "cells": [
  {
   "cell_type": "code",
   "execution_count": null,
   "metadata": {},
   "outputs": [],
   "source": [
    "import pandas as pd\n",
    "import matplotlib.pyplot as plt\n",
    "import numpy as np\n",
    "import warnings\n",
    "from sklearn import linear_model\n",
    "warnings.filterwarnings('ignore')\n",
    "\n",
    "# lesum skránna\n",
    "HousingData = pd.read_csv(\"Husnaedi.csv\")\n",
    "\n",
    "print(HousingData.info())\n",
    "\n",
    "# Skoðum bara íbúðir\n",
    "apartments = HousingData['teg_eign'] == 'Íbúðareign'\n",
    "HousingData = HousingData[apartments]\n",
    "\n",
    "# Skoðum bara Reykjavík\n",
    "rvk = HousingData['svfn'] == 0\n",
    "HousingData[rvk]\n",
    "\n",
    "# Fækkum aðeins gagnapunktum\n",
    "HousingData = HousingData[0:5000]\n",
    "\n",
    "# Fækkum Dálkum\n",
    "HousingData = HousingData[['nuvirdi','ibm2','fjherb','fjklos','lyfta','fjhaed','fjbilast','fjbkar','fjsturt']]\n",
    "\n",
    "# Höfum þetta í venjulegum krónum\n",
    "HousingData['nuvirdi'] = HousingData['nuvirdi']*1000\n",
    "\n",
    "# Endurnefnum dálkana\n",
    "HousingData.columns = ['verð','stærð','fjherb','fjklós','lyfta','fjhæð','fjbílast','fjbkar','fjsturt']\n",
    "\n",
    "HousingData.to_csv(\"HousingData.csv\",index=False)"
   ]
  }
 ],
 "metadata": {
  "kernelspec": {
   "display_name": "Python 3",
   "language": "python",
   "name": "python3"
  },
  "language_info": {
   "codemirror_mode": {
    "name": "ipython",
    "version": 3
   },
   "file_extension": ".py",
   "mimetype": "text/x-python",
   "name": "python",
   "nbconvert_exporter": "python",
   "pygments_lexer": "ipython3",
   "version": "3.6.7"
  }
 },
 "nbformat": 4,
 "nbformat_minor": 2
}
