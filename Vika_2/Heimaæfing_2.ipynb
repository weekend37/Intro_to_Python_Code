{
 "cells": [
  {
   "cell_type": "markdown",
   "metadata": {},
   "source": [
    "                                                                © Helgi Hilmarsson                          "
   ]
  },
  {
   "cell_type": "markdown",
   "metadata": {},
   "source": [
    "# Heimaæfing 2\n",
    "\n",
    "Nokkrar skemmtilegar spurningar úr efni dagsins.\n",
    "\n",
    "Þær eru góðar til að athuga hvort viðfangsefni dagsins sé meðtekið og fín upprifjun þegar farið verður yfir þær í næstu viku.\n",
    "\n",
    "Viðfangsefni: **Túplur, orðabækur, inntök af skipanalínu, strengjavinnsla, stýritákn, if-else, lykkjur**"
   ]
  },
  {
   "cell_type": "markdown",
   "metadata": {},
   "source": [
    "### Spurning 1\n",
    "\n",
    "Hvaða tákn eru notuð til að skilagreina eftirfarandi breytur? \n",
    "\n",
    "a) orðabók (e. dictionary)\n",
    "- [ ] [ ]\n",
    "- [ ] { }\n",
    "- [ ] ( ) \n",
    "\n",
    "b) listi (e. list)\n",
    "- [ ] [ ]\n",
    "- [ ] { }\n",
    "- [ ] ( )\n",
    "\n",
    "c) túpla (e. tuple)\n",
    "- [ ] [ ]\n",
    "- [ ] { }\n",
    "- [ ] ( ) "
   ]
  },
  {
   "cell_type": "markdown",
   "metadata": {},
   "source": [
    "### Spurning 2\n",
    "\n",
    "Hvaða breytur eru óyfirskrifanlegar (e. immutable)?\n",
    "\n",
    "- [ ] orðabók (e. dictionary)\n",
    "- [ ] listi (e. list)\n",
    "- [ ] túpla (e. tuple)\n",
    "- [ ] vigrar (e. vector) skilgreindir með pakkanum *numpy*\n",
    "- [ ] strengir (e. string)"
   ]
  },
  {
   "cell_type": "markdown",
   "metadata": {},
   "source": [
    "### Spurning 3\n",
    "\n",
    "#### Orðabækur\n",
    "\n",
    "Eftirfarandi eru einkunnir leikmanna Íslands í undankeppni EM karla í fótbolta á móti Andorra síðasta föstudag geymdar í dictionary.\n",
    "\n",
    "a) Hvernig væri hægt að prenta út hvað Ari fékk í einkunn með því að vísa í **lykilinn** hans?\n",
    "\n",
    "b) Hvernig mætti finna út hversu langur listinn sé? (án þess að telja í huganum...)\n",
    "\n",
    "c) Viðar Örn Kjartansson kom inn á og skoraði mark og fagnaði á skemmtilegan hátt. Hann fékk 8 í einkunn fyrir þær mínútur sem hann spilaði. Hvernig væri hægt að bæta honum við?"
   ]
  },
  {
   "cell_type": "code",
   "execution_count": 2,
   "metadata": {},
   "outputs": [],
   "source": [
    "einkunnirIslands = {\n",
    " 'Hannes' : 7,\n",
    " 'Birkir' : 7,\n",
    " 'Kári' : 6,\n",
    " 'Ragnar' : 6,\n",
    " 'Ari' : 6,\n",
    " 'Aron' : 7,\n",
    " 'Gylfi' : 8,\n",
    " 'Jóhann' : 7,\n",
    " 'Alfreð' : 6\n",
    "}\n",
    "\n",
    "### Hægt að kóða hér"
   ]
  },
  {
   "cell_type": "markdown",
   "metadata": {},
   "source": [
    "### Spurning 4\n",
    "\n",
    "#### if / else\n",
    "\n",
    "Hvað prentar eftirfarandi kóði út?\n",
    "\n",
    "```python\n",
    "manneskjanLærðiPython = True\n",
    "manneskjanÆfirSigSjálf = False\n",
    "\n",
    "if manneskjanLærðiPython:\n",
    "    if manneskjanÆfirSigSjálf:\n",
    "        print(\"Þessi er algjör hacker!\")\n",
    "    else:\n",
    "        print(\"Þessi veit margt um Python en mun gleyma því bráðum...\")\n",
    "else:\n",
    "    print(\"Þessi verður atvinnulaus eftir 2 ár :(\")\n",
    "```"
   ]
  },
  {
   "cell_type": "markdown",
   "metadata": {},
   "source": [
    "### Spurning 5a\n",
    "#### Gagnvirkni með input - tegund breytunar\n",
    "\n",
    "Hvað prentar eftirfarandi kóði út eftir að notandi hefur slegið inn aldurinn sinn?\n",
    "\n",
    "```python\n",
    "aldur = input(\"Vinsamlegast sláðu inn aldurinn þinn: \")\n",
    "print(type(aldur))\n",
    "```"
   ]
  },
  {
   "cell_type": "markdown",
   "metadata": {},
   "source": [
    "### Spurning 5b\n",
    "\n",
    "#### Meiri gagnvirkni með input\n",
    "\n",
    "Hvernig mætti **breyta** kóðanum úr spurningu 4 þannig að forritið spyrji notenda \n",
    "\n",
    "- hvort hann lærði á Python\n",
    "- hvort hann sé karlkyn\n",
    "\n",
    "og prenti svo út setningarnar í takt við það?\n",
    "\n",
    "**hint/uppástunga**: sniðugt að láta notendann svara með annað hvort j eða n (j/n) og athuga svo hvað hann sagði."
   ]
  },
  {
   "cell_type": "code",
   "execution_count": 19,
   "metadata": {},
   "outputs": [],
   "source": [
    "### Breyta þessum kóða\n",
    "\n",
    "manneskjanLærðiPython = True\n",
    "manneskjanErKK = False\n",
    "\n",
    "if manneskjanLærðiPython and manneskjanErKK:\n",
    "    print(\"Hann veit margt um Python :)\")\n",
    "else:\n",
    "    if manneskjanLærðiPython and not manneskjanErKK:\n",
    "        print(\"Hún veit margt um Python :)\")\n",
    "    else:\n",
    "        print(\"Þessi verður atvinnulaus eftir 2 ár :(\") \n",
    "        "
   ]
  },
  {
   "cell_type": "markdown",
   "metadata": {},
   "source": [
    "### Spurning 6\n",
    "\n",
    "#### Strengjaleikfimi \n",
    "\n",
    "Eftirfarandi er texti frá vísi, vistaður sem strengur í breytunni **texti**. \n",
    "Hvernig væri hægt að telja hversu oft það er minnst á Jón í textanum?\n",
    "\n",
    "uppástunga: \n",
    "\n",
    "- fyrst splitta málsgreininni í orð\n",
    "- breytta listanum í *numpy* vigur\n",
    "- athuga hversu mörg stök vigursins eru Jón"
   ]
  },
  {
   "cell_type": "code",
   "execution_count": 13,
   "metadata": {},
   "outputs": [],
   "source": [
    "texti = 'Jón Karl Ólafsson, fyrrverandi framkvæmdastjóri hjá Isavia og fyrrverandi forstjóri Icelandair, \\\n",
    "er ekki viss um að Indigo Partners hafi með viðræðum við WOW air ætlað sér að kaupa flugfélagið. \\\n",
    "„Þessir samningar við Indigo hafa verið mjög sérstakir. Yfirleitt þegar menn eru að kaupa fyrirtæki þá drífa \\\n",
    "þeir sig í að ganga frá þeim samningum eins hratt og hægt er til þess að fyrirtæki geti haldið áfram rekstri. \\\n",
    "Þessar tafir, mánuð eftir mánuð, eru búnar að vera mjög merkilegar að horfa á,“ sagði Jón Karl á Sprengisandi \\\n",
    "á Bylgjunni í morgun þar sem hann ræddi stöðu WOW Air ásamt Magnúsi Árna Skúlasyni hagfræðingi. '\n",
    "\n",
    "### Hægt að kóða hér\n",
    "\n",
    "### Uppástunga:\n",
    "\n",
    "## splitta málsgreininni í orð\n",
    "# kóði hér \n",
    "\n",
    "## breytta listanum í numpy vigur\n",
    "# kóði hér\n",
    "\n",
    "## athuga hversu mörg stök vigursins eru Jón\n",
    "# kóði hér\n"
   ]
  },
  {
   "cell_type": "markdown",
   "metadata": {},
   "source": [
    "### Spurning 7\n",
    "\n",
    "#### Samanburðarvirkjar\n",
    "\n",
    "Hvað prentar eftirfarandi kóði?\n",
    "\n",
    "```python\n",
    "print(5 != 0 and (10<=5 or \"a\"+\"b\"==\"ab\"))\n",
    "```"
   ]
  },
  {
   "cell_type": "markdown",
   "metadata": {},
   "source": [
    "### Spurning 8\n",
    "\n",
    "#### for-lykkjur og orðabækur\n",
    "\n",
    "Við höfum lært að finna hæsta gildi í orðabókum og lykil þess en það getur orðið erfitt ef þau eru mörg.\n",
    "Notið pakkann *operator* og forlykkju til að prenta út alla leikmenn Íslands sem eru með lægstu einkunn.\n",
    "\n",
    "Það væri hægt að gera með því að\n",
    "- fyrst að finna lægsta gildið og geyma það\n",
    "- loopa yfir öll pörin í orðabókinni\n",
    "- athuga fyrir hvert einasta gildi hvort það sé sama og lægsta gildið\n",
    "- prenta út lykilinn ef svo er"
   ]
  },
  {
   "cell_type": "code",
   "execution_count": 1,
   "metadata": {},
   "outputs": [],
   "source": [
    "import operator\n",
    "\n",
    "einkunnirIslands = {\n",
    " 'Hannes' : 7,\n",
    " 'Birkir' : 7,\n",
    " 'Kári' : 6,\n",
    " 'Ragnar' : 6,\n",
    " 'Ari' : 6,\n",
    " 'Aron' : 7,\n",
    " 'Gylfi' : 8,\n",
    " 'Jóhann' : 7,\n",
    " 'Alfreð' : 6\n",
    "}\n",
    "\n",
    "### Kóði hér"
   ]
  }
 ],
 "metadata": {
  "kernelspec": {
   "display_name": "Python 3",
   "language": "python",
   "name": "python3"
  },
  "language_info": {
   "codemirror_mode": {
    "name": "ipython",
    "version": 3
   },
   "file_extension": ".py",
   "mimetype": "text/x-python",
   "name": "python",
   "nbconvert_exporter": "python",
   "pygments_lexer": "ipython3",
   "version": "3.6.7"
  }
 },
 "nbformat": 4,
 "nbformat_minor": 2
}
