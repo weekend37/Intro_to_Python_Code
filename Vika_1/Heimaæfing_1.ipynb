{
 "cells": [
  {
   "cell_type": "markdown",
   "metadata": {},
   "source": [
    "                                                                © Helgi Hilmarsson                          "
   ]
  },
  {
   "cell_type": "markdown",
   "metadata": {},
   "source": [
    "# Heimaæfing 1\n",
    "\n",
    "Nokkrar skemmtilegar spurningar úr efni dagsins.\n",
    "\n",
    "Þær eru góðar til að athuga hvort viðfangsefni dagsins sé meðtekið og fín upprifjun þegar farið verður yfir þær í næstu viku.\n",
    "\n",
    "Viðfangsefni: **Breytur, pakkar, slembitölur, listar, vigrar**"
   ]
  },
  {
   "cell_type": "markdown",
   "metadata": {},
   "source": [
    "### Spurning 1\n",
    "\n",
    "Hvað af eftirfarandi breytunöfnum eru lögleg?\n",
    "\n",
    "1. a_2019\n",
    "2. 8_ball\n",
    "3. fjorir_f\n",
    "4. tveir-tveir\n",
    "5. _breyta\n",
    "6. False\n",
    "7. TRUE\n",
    "8. sextán"
   ]
  },
  {
   "cell_type": "markdown",
   "metadata": {},
   "source": [
    "### Svar\n",
    "1. -\n",
    "2. -\n",
    "3. -\n",
    "4. -\n",
    "5. -\n",
    "6. -\n",
    "7. -\n",
    "8. -"
   ]
  },
  {
   "cell_type": "markdown",
   "metadata": {},
   "source": [
    "### Spurning 2\n",
    "\n",
    "Hvernig gæti maður notað math pakkann til að reikna $\\cos^2(\\pi/4)$?"
   ]
  },
  {
   "cell_type": "code",
   "execution_count": null,
   "metadata": {},
   "outputs": [],
   "source": [
    "### Kóði hér"
   ]
  },
  {
   "cell_type": "markdown",
   "metadata": {},
   "source": [
    "### Spurning 3\n",
    "\n",
    "Hvernig gæti maður framkallað slemtitölu (ath. **ekki** heiltölu) á bilinu [0,5) með fallinu random() úr pakkanum random?"
   ]
  },
  {
   "cell_type": "code",
   "execution_count": null,
   "metadata": {},
   "outputs": [],
   "source": [
    "### Kóði hér"
   ]
  },
  {
   "cell_type": "markdown",
   "metadata": {},
   "source": [
    "### Spurning 4\n",
    "\n",
    "Í glærunum var búinn til listi af ávöxtum eins og sjá má að neðan. \n",
    "\n",
    "Hvernig væri hægt að breyta listanum þannig að það stæði \"appelsína\" í staðinn fyrir \"epli\"?"
   ]
  },
  {
   "cell_type": "code",
   "execution_count": 5,
   "metadata": {},
   "outputs": [],
   "source": [
    "avextirnirMinir = [\"banani\", \"epli\", \"pera\"]\n",
    "print(avextirnirMinir)\n",
    "\n",
    "### Kóði hér\n"
   ]
  },
  {
   "cell_type": "markdown",
   "metadata": {},
   "source": [
    "### Spurning 5\n",
    "\n",
    "Hvernig mætti búa til **vigurinn** (0,1,2,...,9) með numpy pakkanum?"
   ]
  },
  {
   "cell_type": "code",
   "execution_count": null,
   "metadata": {},
   "outputs": [],
   "source": [
    "### Kóði hér"
   ]
  },
  {
   "cell_type": "markdown",
   "metadata": {},
   "source": [
    "### Spurning 6 (Svolítið tricky en skemmtileg!)\n",
    "\n",
    "Hvernig væri hægt að búa til vigur með 500 heiltölum á **lokaða** bilinu [1,5] með numpy pakkanum og prenta hversu margar þeirra eru stærri en 3? \n"
   ]
  },
  {
   "cell_type": "code",
   "execution_count": 16,
   "metadata": {},
   "outputs": [],
   "source": [
    "### Kóði hér"
   ]
  }
 ],
 "metadata": {
  "kernelspec": {
   "display_name": "Python 3",
   "language": "python",
   "name": "python3"
  },
  "language_info": {
   "codemirror_mode": {
    "name": "ipython",
    "version": 3
   },
   "file_extension": ".py",
   "mimetype": "text/x-python",
   "name": "python",
   "nbconvert_exporter": "python",
   "pygments_lexer": "ipython3",
   "version": "3.6.7"
  }
 },
 "nbformat": 4,
 "nbformat_minor": 2
}
